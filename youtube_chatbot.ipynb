{
 "cells": [
  {
   "cell_type": "code",
   "execution_count": 1,
   "id": "f79fdafa-c80b-4368-a855-88d466cccaef",
   "metadata": {},
   "outputs": [
    {
     "name": "stderr",
     "output_type": "stream",
     "text": [
      "/Users/onglichang/Desktop/ml/LLMs/LLMs/LLM-venv/lib/python3.9/site-packages/urllib3/__init__.py:35: NotOpenSSLWarning: urllib3 v2 only supports OpenSSL 1.1.1+, currently the 'ssl' module is compiled with 'LibreSSL 2.8.3'. See: https://github.com/urllib3/urllib3/issues/3020\n",
      "  warnings.warn(\n"
     ]
    }
   ],
   "source": [
    "import os\n",
    "from langchain_openai import ChatOpenAI\n",
    "from langchain_community.document_loaders import YoutubeLoader\n",
    "from langchain.text_splitter import RecursiveCharacterTextSplitter\n",
    "from langchain.vectorstores import FAISS\n",
    "from langchain.embeddings.openai import OpenAIEmbeddings\n",
    "from langchain.prompts.chat import (\n",
    "    ChatPromptTemplate,\n",
    "    SystemMessagePromptTemplate,\n",
    "    HumanMessagePromptTemplate,\n",
    ")\n",
    "from langchain.chains import LLMChain\n",
    "from dotenv import load_dotenv, find_dotenv\n",
    "import textwrap\n",
    "\n",
    "_ = load_dotenv(find_dotenv()) # read local .env file"
   ]
  },
  {
   "cell_type": "code",
   "execution_count": 2,
   "id": "35b87b30",
   "metadata": {},
   "outputs": [
    {
     "name": "stderr",
     "output_type": "stream",
     "text": [
      "/Users/onglichang/Desktop/ml/LLMs/LLMs/LLM-venv/lib/python3.9/site-packages/langchain_core/_api/deprecation.py:117: LangChainDeprecationWarning: The class `langchain_community.embeddings.openai.OpenAIEmbeddings` was deprecated in langchain-community 0.0.9 and will be removed in 0.2.0. An updated version of the class exists in the langchain-openai package and should be used instead. To use it run `pip install -U langchain-openai` and import as `from langchain_openai import OpenAIEmbeddings`.\n",
      "  warn_deprecated(\n"
     ]
    }
   ],
   "source": [
    "embeddings = OpenAIEmbeddings()\n",
    "\n",
    "def create_vector_db_from_youtube_video_url(video_url):\n",
    "    # Retrieves video transcript from youtube url\n",
    "    loader = YoutubeLoader.from_youtube_url(video_url)\n",
    "    transcript = loader.load()\n",
    "\n",
    "    # Split transcript into chunks\n",
    "    text_splitter = RecursiveCharacterTextSplitter(chunk_size=2000, chunk_overlap=100)\n",
    "    docs = text_splitter.split_documents(transcript)\n",
    "\n",
    "    # FAISS - Vector DB from facebook\n",
    "    # Vector DBs are for storing vectors (numerical arrays)\n",
    "    # Vectors are used to make embeddings (In ML embeddings can be used to represent words, sentences, images, audio...)\n",
    "    db = FAISS.from_documents(docs, embeddings)\n",
    "    return db"
   ]
  },
  {
   "cell_type": "code",
   "execution_count": 3,
   "id": "18890036",
   "metadata": {},
   "outputs": [],
   "source": [
    "def get_response_from_query(db, query, k=4):\n",
    "    docs = db.similarity_search(query, k=k)\n",
    "    docs_page_content = \" \".join([d.page_content for d in docs])\n",
    "\n",
    "    chat = ChatOpenAI(model_name=\"gpt-3.5-turbo-16k\", temperature=0.2)\n",
    "\n",
    "    # Template to use for the system message prompt\n",
    "    template = \"\"\"\n",
    "        You are a helpful assistant that that can answer questions about youtube videos \n",
    "        based on the video's transcript: {docs}\n",
    "        \n",
    "        Only use the factual information from the transcript to answer the question.\n",
    "        \n",
    "        If you feel like you don't have enough information to answer the question, say \"I don't know\".\n",
    "        \n",
    "        \"\"\"\n",
    "\n",
    "    system_message_prompt = SystemMessagePromptTemplate.from_template(template)\n",
    "\n",
    "    # Human question prompt\n",
    "    human_template = \"Answer the following question: {question}\"\n",
    "    human_message_prompt = HumanMessagePromptTemplate.from_template(human_template)\n",
    "\n",
    "    chat_prompt = ChatPromptTemplate.from_messages(\n",
    "        [system_message_prompt, human_message_prompt]\n",
    "    )\n",
    "\n",
    "    chain = LLMChain(llm=chat, prompt=chat_prompt)\n",
    "\n",
    "    response = chain.run(question=query, docs=docs_page_content)\n",
    "    response = response.replace(\"\\n\", \"\")\n",
    "    return response, docs"
   ]
  },
  {
   "cell_type": "code",
   "execution_count": 4,
   "id": "6ee2d998",
   "metadata": {},
   "outputs": [
    {
     "name": "stderr",
     "output_type": "stream",
     "text": [
      "/Users/onglichang/Desktop/ml/LLMs/LLMs/LLM-venv/lib/python3.9/site-packages/langchain_core/_api/deprecation.py:117: LangChainDeprecationWarning: The function `run` was deprecated in LangChain 0.1.0 and will be removed in 0.2.0. Use invoke instead.\n",
      "  warn_deprecated(\n"
     ]
    },
    {
     "name": "stdout",
     "output_type": "stream",
     "text": [
      "This video is about the speaker's new data science\n",
      "workflow using AI tools like Chat GPT and GitHub\n",
      "co-pilot. They explain how these tools have\n",
      "changed their workflow and how they use them to\n",
      "complete data science projects efficiently. They\n",
      "also demonstrate their workflow using a Kaggle\n",
      "competition dataset.\n"
     ]
    }
   ],
   "source": [
    "# Example usage:\n",
    "video_url = \"https://www.youtube.com/watch?v=th4j9JxWGko\"\n",
    "db = create_vector_db_from_youtube_video_url(video_url)\n",
    "\n",
    "query = \"what is this video about?\"\n",
    "response, docs = get_response_from_query(db, query)\n",
    "print(textwrap.fill(response, width=50))"
   ]
  },
  {
   "cell_type": "code",
   "execution_count": 5,
   "id": "b9b9d336",
   "metadata": {},
   "outputs": [
    {
     "name": "stdout",
     "output_type": "stream",
     "text": [
      "This video is about Japan's economic experiments,\n",
      "including negative interest rates and yield curve\n",
      "control, and the recent decision by the Bank of\n",
      "Japan to end these policies. It discusses the\n",
      "impact of these changes on the Japanese economy\n",
      "and everyday lives in the country.\n"
     ]
    }
   ],
   "source": [
    "# Example usage:\n",
    "video_url = \"https://www.youtube.com/watch?v=HFYv-rk4v9Y\"\n",
    "db = create_vector_db_from_youtube_video_url(video_url)\n",
    "\n",
    "query = \"what is this video about?\"\n",
    "response, docs = get_response_from_query(db, query)\n",
    "print(textwrap.fill(response, width=50))"
   ]
  },
  {
   "cell_type": "code",
   "execution_count": 15,
   "id": "56da4bd4",
   "metadata": {},
   "outputs": [],
   "source": [
    "def combined_function(video_url):\n",
    "    db = create_vector_db_from_youtube_video_url(video_url)\n",
    "\n",
    "    query = \"what is this video about?\"\n",
    "    response, docs = get_response_from_query(db, query)\n",
    "    return response"
   ]
  },
  {
   "cell_type": "code",
   "execution_count": 21,
   "id": "4c33c6d0",
   "metadata": {},
   "outputs": [
    {
     "name": "stdout",
     "output_type": "stream",
     "text": [
      "Launching server at http://localhost:54521\n"
     ]
    },
    {
     "data": {
      "text/plain": [
       "<panel.io.server.Server at 0x11b7474c0>"
      ]
     },
     "execution_count": 21,
     "metadata": {},
     "output_type": "execute_result"
    }
   ],
   "source": [
    "import panel as pn  # GUI\n",
    "\n",
    "# Create a TextInput widget\n",
    "text_input = pn.widgets.TextInput(name='Input Box:', placeholder='Type Youtube URL here...')\n",
    "\n",
    "# Create a Button widget\n",
    "submit_button = pn.widgets.Button(name='Submit')\n",
    "\n",
    "# Create a StaticText widget to display the received input\n",
    "received_text = pn.widgets.StaticText(value='')\n",
    "\n",
    "# Define a function to handle button click event\n",
    "def submit_callback(event):\n",
    "    video_url = text_input.value\n",
    "    \n",
    "    # Call process_input asynchronously to not block the main thread\n",
    "    combined_function(video_url)\n",
    "    \n",
    "    process_input(response)\n",
    "\n",
    "# Define a function to process the input\n",
    "def process_input(value):\n",
    "    # Update the value of the StaticText widget\n",
    "    received_text.value = value\n",
    "    \n",
    "\n",
    "# Assign the function to the button's on_click event\n",
    "submit_button.on_click(submit_callback)\n",
    "\n",
    "# Create a panel layout containing the input box and button\n",
    "panel_layout = pn.Column(\n",
    "    '### Youtube Video Summariser',  # Markdown title\n",
    "    text_input,  # TextInput widget\n",
    "    submit_button,  # Button widget\n",
    "    received_text\n",
    ")\n",
    "\n",
    "# Display the panel layout\n",
    "panel_layout.show()"
   ]
  },
  {
   "cell_type": "code",
   "execution_count": null,
   "id": "c3a1a82e",
   "metadata": {},
   "outputs": [],
   "source": []
  }
 ],
 "metadata": {
  "kernelspec": {
   "display_name": "Python 3 (ipykernel)",
   "language": "python",
   "name": "python3"
  },
  "language_info": {
   "codemirror_mode": {
    "name": "ipython",
    "version": 3
   },
   "file_extension": ".py",
   "mimetype": "text/x-python",
   "name": "python",
   "nbconvert_exporter": "python",
   "pygments_lexer": "ipython3",
   "version": "3.9.6"
  }
 },
 "nbformat": 4,
 "nbformat_minor": 5
}
